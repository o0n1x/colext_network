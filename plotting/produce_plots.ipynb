{
 "cells": [
  {
   "cell_type": "code",
   "execution_count": null,
   "metadata": {},
   "outputs": [],
   "source": [
    "import plot_function\n",
    "from importlib import reload\n",
    "reload(plot_function)\n",
    "from plot_function import *\n",
    "\n",
    "import matplotlib\n",
    "matplotlib.pyplot.ion()\n",
    "%config InlineBackend.figure_formats = ['svg']\n",
    "sns.set_theme(style=\"whitegrid\")\n",
    "# sns.set_theme(style=\"white\")\n",
    "sns.set_palette(\"colorblind\")"
   ]
  },
  {
   "cell_type": "code",
   "execution_count": null,
   "metadata": {},
   "outputs": [],
   "source": [
    "job_details_template = {\n",
    "    \"scrap_measurement_overhead\": {\n",
    "        \"id\": 694\n",
    "    },\n",
    "    \"scrap_measurement_overhead_2\": {\n",
    "        \"id\": 857\n",
    "    },\n",
    "    \"moon\": {\n",
    "        \"id\": 804, # 3 Clients crashed,\n",
    "        \"dev_order\": [\"jao1\", \"jao2\", \"jon1\", \"jon2\", \"jon3\", \"jon4\", \"jxn1\", \"jxn2\", \"jn5\", \"jn6\"],\n",
    "        \"dev_type_order\": [\"AGXOrin\", \"OrinNano\", \"XavierNX\", \"Nano\"],\n",
    "        \"data_batches\": [82, 57, 69, 78, 81, 59, 81, 67, 126, 76],\n",
    "        \"epochs\": 10,\n",
    "    },\n",
    "    \"moon_fedprox\": {\n",
    "        \"id\": 808,\n",
    "        \"max_round\": 30,\n",
    "        \"inherits\": \"moon\",\n",
    "    },\n",
    "    \"moon_large_model\": {\n",
    "        \"id\": 831, # confirm\n",
    "        \"dev_order\": [\"jao1\", \"jao2\", \"jon1\", \"jon2\", \"jon3\", \"jon4\", \"jxn1\", \"jxn2\"],\n",
    "        \"dev_type_order\": [\"AGXOrin\", \"OrinNano\", \"XavierNX\"],\n",
    "        \"data_batches\": [115, 31, 102, 71, 114, 129, 127, 89],\n",
    "        \"max_round\": 30, # max 31\n",
    "        \"epochs\": 10,\n",
    "    },\n",
    "    \"moon_large_model_opt\": {\n",
    "        \"id\": 832,\n",
    "        \"max_round\": 30, # max 45\n",
    "        \"inherits\": \"moon_large_model\",\n",
    "    },\n",
    "    \"moon_fedprox_large_model_opt\": {\n",
    "        \"id\": 833,\n",
    "        \"max_round\": 30, # max 48\n",
    "        \"inherits\": \"moon_large_model\",\n",
    "    },\n",
    "    \"test\": {\n",
    "        \"id\": 809\n",
    "    },\n",
    "}\n",
    "\n",
    "def expand_inherits(job_details_template):\n",
    "    expanded_data = {}\n",
    "\n",
    "    for exp_name, job_details in job_details_template.items():\n",
    "        if 'inherits' in job_details:\n",
    "            inherited_job = job_details['inherits']\n",
    "            expanded_details = {**job_details_template[inherited_job], **job_details}\n",
    "            expanded_details.pop('inherits', None)\n",
    "            expanded_data[exp_name] = expanded_details\n",
    "        else:\n",
    "            expanded_data[exp_name] = job_details\n",
    "\n",
    "        # Add exp_name as field for exp\n",
    "        expanded_data[exp_name]['exp_name'] = exp_name\n",
    "\n",
    "    return expanded_data\n",
    "\n",
    "job_details_map = expand_inherits(job_details_template)"
   ]
  },
  {
   "cell_type": "code",
   "execution_count": null,
   "metadata": {},
   "outputs": [],
   "source": [
    "# exp_name=\"scrap_measurement_overhead\"\n",
    "exp_name=\"scrap_measurement_overhead_2\"\n",
    "job_details = job_details_map[exp_name]\n",
    "job_data = collect_job_metrics(job_details)\n",
    "\n",
    "# Adjust units\n",
    "hw_metrics = job_data[\"hw_metrics\"]\n",
    "hw_metrics[\"Sent (KiB)\"] = hw_metrics[\"Sent (MiB)\"] * 1024\n",
    "hw_metrics[\"Rcvd (KiB)\"] = hw_metrics[\"Rcvd (MiB)\"] * 1024\n",
    "hw_metrics[\"Upload (KiB/s)\"] = hw_metrics[\"Upload (MiB/s)\"] * 1024\n",
    "hw_metrics[\"Download (KiB/s)\"] =  hw_metrics[\"Download (MiB/s)\"]  * 1024\n",
    "\n",
    "# df = job_data[\"hw_metrics\"][[\"device_type\", \"CPU Util (%)\", \"Mem Util (MiB)\", \"Power (W)\"]]\n",
    "df = job_data[\"hw_metrics\"][[\"device_type\", \"CPU Util (%)\", \"Mem Util (MiB)\"]]\n",
    "plot_hw_metrics(df, save_name=\"scrape_hw_1.pdf\")\n",
    "\n",
    "# df = job_data[\"hw_metrics\"][[\"device_type\", \"Sent (MiB)\", \"Rcvd (MiB)\", \"Upload (MiB/s)\", \"Download (MiB/s)\"]]\n",
    "df = job_data[\"hw_metrics\"][[\"device_type\", \"Sent (KiB)\", \"Rcvd (KiB)\", \"Upload (KiB/s)\", \"Download (KiB/s)\"]]\n",
    "plot_hw_metrics(df, save_name=\"scrape_hw_2.pdf\")\n"
   ]
  },
  {
   "cell_type": "code",
   "execution_count": null,
   "metadata": {},
   "outputs": [],
   "source": [
    "job_details = job_details_map[\"test\"]\n",
    "job_data = collect_job_metrics(job_details)\n",
    "order = [\"JetsonAGXOrin\", \"JetsonOrinNano\"]\n",
    "plot_cir_metrics(job_data[\"cr_timings\"], job_details, order=order)"
   ]
  },
  {
   "cell_type": "code",
   "execution_count": null,
   "metadata": {},
   "outputs": [],
   "source": [
    "job_details = job_details_map[\"moon\"]\n",
    "moon_job_data = collect_job_metrics(job_details)\n",
    "full_algo_plot(moon_job_data[\"cr_timings\"], job_details)"
   ]
  },
  {
   "cell_type": "code",
   "execution_count": null,
   "metadata": {},
   "outputs": [],
   "source": [
    "job_details = job_details_map[\"moon_fedprox\"]\n",
    "moon_fedprox_job_data = collect_job_metrics(job_details)\n",
    "full_algo_plot(moon_fedprox_job_data[\"cr_timings\"], job_details)"
   ]
  },
  {
   "cell_type": "code",
   "execution_count": null,
   "metadata": {},
   "outputs": [],
   "source": [
    "job_details = job_details_map[\"moon_large_model\"]\n",
    "moon_job_data = collect_job_metrics(job_details)\n",
    "full_algo_plot(moon_job_data[\"cr_timings\"], job_details, show=False)"
   ]
  },
  {
   "cell_type": "code",
   "execution_count": null,
   "metadata": {},
   "outputs": [],
   "source": [
    "job_details = job_details_map[\"moon_large_model_opt\"]\n",
    "moon_job_data = collect_job_metrics(job_details)\n",
    "full_algo_plot(moon_job_data[\"cr_timings\"], job_details, show=False)"
   ]
  },
  {
   "cell_type": "code",
   "execution_count": null,
   "metadata": {},
   "outputs": [],
   "source": [
    "job_details = job_details_map[\"moon_fedprox_large_model_opt\"]\n",
    "moon_job_data = collect_job_metrics(job_details)\n",
    "full_algo_plot(moon_job_data[\"cr_timings\"], job_details, show=False)"
   ]
  },
  {
   "cell_type": "code",
   "execution_count": null,
   "metadata": {},
   "outputs": [],
   "source": [
    "algorithms = [\n",
    "    (\"moon\", \"Moon\"),\n",
    "    (\"moon_fedprox\", \"FedProx\"),\n",
    "]\n",
    "\n",
    "algorithms_to_cmp = []\n",
    "for job_name, algorithm_title in algorithms:\n",
    "    job_details = job_details_map[job_name]\n",
    "    job_data = collect_job_metrics(job_details)[\"cr_timings\"]\n",
    "    job_data[\"Algorithm\"] = algorithm_title\n",
    "    algorithms_to_cmp.append(job_data)\n",
    "\n",
    "cmp_algorithms_by_cir(algorithms_to_cmp, \"device_type\", perb=True, save_file=\"cmp_moon_fedprox_orig.pdf\")"
   ]
  },
  {
   "cell_type": "code",
   "execution_count": null,
   "metadata": {},
   "outputs": [],
   "source": [
    "algorithms = [\n",
    "    (\"moon_large_model\", \"Moon (L)\"),\n",
    "    (\"moon_large_model_opt\", \"Moon (L+O)\"),\n",
    "    (\"moon_fedprox_large_model_opt\", \"Fedprox (L)\"),\n",
    "]\n",
    "\n",
    "algorithms_to_cmp = []\n",
    "for job_name, algorithm_title in algorithms:\n",
    "    job_details = job_details_map[job_name]\n",
    "    job_data = collect_job_metrics(job_details)[\"cr_timings\"]\n",
    "    job_data[\"Algorithm\"] = algorithm_title\n",
    "    algorithms_to_cmp.append(job_data)\n",
    "\n",
    "cmp_algorithms_by_cir(algorithms_to_cmp, \"device_type\", perb=True, save_file=\"cmp_moon_fedprox_large.pdf\")"
   ]
  },
  {
   "cell_type": "code",
   "execution_count": null,
   "metadata": {},
   "outputs": [],
   "source": [
    "import plot_function\n",
    "from importlib import reload\n",
    "reload(plot_function)\n",
    "from plot_function import *\n",
    "\n",
    "cmp_algorithms_by_cir(algorithms_to_cmp, \"device_type\", perb=True, save_file=\"cmp_moon_fedprox_large.pdf\")\n",
    "# cmp_algorithms_by_cir(algorithms_to_cmp, \"device_type\", perb=True, save_file=\"cmp_moon_fedprox_large_per_algorithm.pdf\")"
   ]
  },
  {
   "cell_type": "code",
   "execution_count": null,
   "metadata": {},
   "outputs": [],
   "source": [
    "comp_algorithms_by_round_metrics(algorithms_to_cmp, save_file=\"high_level_algorithm_cmp_large.pdf\")"
   ]
  },
  {
   "cell_type": "code",
   "execution_count": null,
   "metadata": {},
   "outputs": [],
   "source": [
    "cmp_algorithms_by_cir(algorithms_to_cmp, \"device_name\", perb=True, save_file=\"cmp_moon_fedprox_large_per_dev.pdf\")"
   ]
  },
  {
   "cell_type": "code",
   "execution_count": null,
   "metadata": {},
   "outputs": [],
   "source": [
    "\n",
    "job_data[\"hw_metrics\"].groupby(['client_id', 'round_number', 'stage']).describe()"
   ]
  },
  {
   "cell_type": "code",
   "execution_count": null,
   "metadata": {},
   "outputs": [],
   "source": [
    "job_data[\"hw_metrics\"].groupby(\"device_name\").mean(numeric_only=True)"
   ]
  }
 ],
 "metadata": {
  "kernelspec": {
   "display_name": "colext_env",
   "language": "python",
   "name": "python3"
  },
  "language_info": {
   "codemirror_mode": {
    "name": "ipython",
    "version": 3
   },
   "file_extension": ".py",
   "mimetype": "text/x-python",
   "name": "python",
   "nbconvert_exporter": "python",
   "pygments_lexer": "ipython3",
   "version": "3.8.19"
  }
 },
 "nbformat": 4,
 "nbformat_minor": 2
}
