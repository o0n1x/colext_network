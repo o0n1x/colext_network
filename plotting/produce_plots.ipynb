{
 "cells": [
  {
   "cell_type": "code",
   "execution_count": 6,
   "metadata": {},
   "outputs": [],
   "source": [
    "import plot_function\n",
    "from importlib import reload\n",
    "reload(plot_function)\n",
    "from plot_function import *\n",
    "\n",
    "import matplotlib\n",
    "matplotlib.pyplot.ioff()\n",
    "%config InlineBackend.figure_formats = ['svg']\n",
    "sns.set_theme(style=\"whitegrid\")\n",
    "# sns.set_theme(style=\"white\")\n",
    "sns.set_palette(\"colorblind\")"
   ]
  },
  {
   "cell_type": "code",
   "execution_count": 7,
   "metadata": {},
   "outputs": [],
   "source": [
    "job_details_template = {\n",
    "    \"scrap_measurement_overhead\": {\n",
    "        \"id\": 694\n",
    "    },\n",
    "    \"moon\": {\n",
    "        \"id\": 804, # 3 Clients crashed,\n",
    "        \"dev_order\": [\"jao1\", \"jao2\", \"jon1\", \"jon2\", \"jon3\", \"jon4\", \"jxn1\", \"jxn2\", \"jn5\", \"jn6\"],\n",
    "        \"dev_type_order\": [\"AGXOrin\", \"OrinNano\", \"XavierNX\", \"Nano\"],\n",
    "        \"data_batches\": [82, 57, 69, 78, 81, 59, 81, 67, 126, 76],\n",
    "        \"epochs\": 10,\n",
    "    },\n",
    "    \"moon_fedprox\": {\n",
    "        \"id\": 808,\n",
    "        \"max_round\": 30,\n",
    "        \"inherits\": \"moon\",\n",
    "    },\n",
    "    \"moon_large_model\": { \n",
    "        \"id\": 831, # confirm\n",
    "        \"dev_order\": [\"jao1\", \"jao2\", \"jon1\", \"jon2\", \"jon3\", \"jon4\", \"jxn1\", \"jxn2\"],\n",
    "        \"dev_type_order\": [\"AGXOrin\", \"OrinNano\", \"XavierNX\"],\n",
    "        \"data_batches\": [82, 57, 69, 78, 81, 59, 81, 67, 126, 76],\n",
    "        \"max_round\": 30, # max 31\n",
    "        \"epochs\": 10,\n",
    "    },\n",
    "    \"moon_large_model_opt\": {\n",
    "        \"id\": 832, \n",
    "        \"max_round\": 30, # max 45\n",
    "        \"inherits\": \"moon_large_model\",\n",
    "    },\n",
    "    \"moon_fedprox_large_model_opt\": {\n",
    "        \"id\": 833, \n",
    "        \"max_round\": 30, # max 48\n",
    "        \"inherits\": \"moon_large_model\",\n",
    "    },\n",
    "    \"test\": {\n",
    "        \"id\": 809\n",
    "    },\n",
    "}\n",
    "\n",
    "def expand_inherits(job_details_template):\n",
    "    expanded_data = {}\n",
    "    \n",
    "    for exp_name, job_details in job_details_template.items():\n",
    "        if 'inherits' in job_details:\n",
    "            inherited_job = job_details['inherits']\n",
    "            expanded_details = {**job_details_template[inherited_job], **job_details}\n",
    "            expanded_details.pop('inherits', None)\n",
    "            expanded_data[exp_name] = expanded_details\n",
    "        else:\n",
    "            expanded_data[exp_name] = job_details\n",
    "        \n",
    "        # Add exp_name as field for exp\n",
    "        expanded_data[exp_name]['exp_name'] = exp_name\n",
    "    \n",
    "    return expanded_data\n",
    "\n",
    "job_details_map = expand_inherits(job_details_template)"
   ]
  },
  {
   "cell_type": "code",
   "execution_count": null,
   "metadata": {},
   "outputs": [],
   "source": [
    "exp_name=\"scrap_measurement_overhead\"\n",
    "job_details = job_details_map[exp_name]\n",
    "job_metric_dir = collect_job_metrics(job_details)\n",
    "job_data = read_job_metrics(job_details, job_metric_dir)\n",
    "\n",
    "# Adjust units\n",
    "hw_metrics = job_data[\"hw_metrics\"]\n",
    "hw_metrics[\"Sent (KiB)\"] = hw_metrics[\"Sent (MiB)\"] * 1024\n",
    "hw_metrics[\"Rcvd (KiB)\"] = hw_metrics[\"Rcvd (MiB)\"] * 1024\n",
    "hw_metrics[\"Upload (KiB/s)\"] = hw_metrics[\"Upload (MiB/s)\"] * 1024\n",
    "hw_metrics[\"Download (KiB/s)\"] =  hw_metrics[\"Download (MiB/s)\"]  * 1024 \n",
    "\n",
    "# df = job_data[\"hw_metrics\"][[\"device_type\", \"CPU Util (%)\", \"Mem Util (MiB)\", \"Power (W)\"]]\n",
    "df = job_data[\"hw_metrics\"][[\"device_type\", \"CPU Util (%)\", \"Mem Util (MiB)\"]]\n",
    "plot_hw_metrics(df, save_name=\"scrape_hw_1.pdf\")\n",
    "\n",
    "# df = job_data[\"hw_metrics\"][[\"device_type\", \"Sent (MiB)\", \"Rcvd (MiB)\", \"Upload (MiB/s)\", \"Download (MiB/s)\"]]\n",
    "df = job_data[\"hw_metrics\"][[\"device_type\", \"Sent (KiB)\", \"Rcvd (KiB)\", \"Upload (KiB/s)\", \"Download (KiB/s)\"]]\n",
    "plot_hw_metrics(df, save_name=\"scrape_hw_2.pdf\")\n"
   ]
  },
  {
   "cell_type": "code",
   "execution_count": null,
   "metadata": {},
   "outputs": [],
   "source": [
    "exp_name=\"test\"\n",
    "job_details = job_details_map[exp_name]\n",
    "job_metric_dir = collect_job_metrics(job_details)\n",
    "order = [\"JetsonAGXOrin\", \"JetsonOrinNano\"]\n",
    "job_data = read_job_metrics(job_details, job_metric_dir)\n",
    "plot_cir_metrics(job_data[\"cr_timings\"], job_details, order=order)"
   ]
  },
  {
   "cell_type": "code",
   "execution_count": 41,
   "metadata": {},
   "outputs": [
    {
     "name": "stderr",
     "output_type": "stream",
     "text": [
      "/home/faustiar/colext/plotting/plot_function.py:141: UserWarning: Could not infer format, so each element will be parsed individually, falling back to `dateutil`. To ensure parsing is consistent and as-expected, please specify a format.\n",
      "  hw_metrics[\"time\"] = pd.to_datetime(hw_metrics[\"time\"], format='ISO8601')\n"
     ]
    }
   ],
   "source": [
    "job_details = job_details_map[\"moon\"]\n",
    "moon_job_data = collect_job_metrics(job_details)\n",
    "full_algo_plot(moon_job_data[\"cr_timings\"], job_details)"
   ]
  },
  {
   "cell_type": "code",
   "execution_count": 15,
   "metadata": {},
   "outputs": [],
   "source": [
    "job_details = job_details_map[\"moon_fedprox\"]\n",
    "moon_fedprox_job_data = collect_job_metrics(job_details)\n",
    "full_algo_plot(moon_fedprox_job_data[\"cr_timings\"], job_details)"
   ]
  },
  {
   "cell_type": "code",
   "execution_count": 8,
   "metadata": {},
   "outputs": [
    {
     "name": "stdout",
     "output_type": "stream",
     "text": [
      "Clipping rounds to 30\n"
     ]
    }
   ],
   "source": [
    "job_details = job_details_map[\"moon_large_model\"] \n",
    "moon_job_data = collect_job_metrics(job_details)\n",
    "full_algo_plot(moon_job_data[\"cr_timings\"], job_details, show=False)"
   ]
  },
  {
   "cell_type": "code",
   "execution_count": 9,
   "metadata": {},
   "outputs": [
    {
     "name": "stdout",
     "output_type": "stream",
     "text": [
      "Clipping rounds to 30\n"
     ]
    }
   ],
   "source": [
    "job_details = job_details_map[\"moon_large_model_opt\"]\n",
    "moon_job_data = collect_job_metrics(job_details)\n",
    "full_algo_plot(moon_job_data[\"cr_timings\"], job_details, show=False)"
   ]
  },
  {
   "cell_type": "code",
   "execution_count": 10,
   "metadata": {},
   "outputs": [
    {
     "name": "stdout",
     "output_type": "stream",
     "text": [
      "Clipping rounds to 30\n"
     ]
    }
   ],
   "source": [
    "job_details = job_details_map[\"moon_fedprox_large_model_opt\"]\n",
    "moon_job_data = collect_job_metrics(job_details)\n",
    "full_algo_plot(moon_job_data[\"cr_timings\"], job_details, show=False)"
   ]
  },
  {
   "cell_type": "code",
   "execution_count": 13,
   "metadata": {},
   "outputs": [
    {
     "name": "stderr",
     "output_type": "stream",
     "text": [
      "/home/faustiar/colext/plotting/plot_function.py:147: UserWarning: Could not infer format, so each element will be parsed individually, falling back to `dateutil`. To ensure parsing is consistent and as-expected, please specify a format.\n",
      "  cr_timings: DataFrame = pd.read_csv(f\"{path_prefix}_client_round_timings.csv\", parse_dates=[\"start_time\", \"end_time\"])\n"
     ]
    },
    {
     "name": "stdout",
     "output_type": "stream",
     "text": [
      "Clipping rounds to 30\n"
     ]
    }
   ],
   "source": [
    "algorithms = [\n",
    "    (\"moon\", \"Moon\"),\n",
    "    (\"moon_fedprox\", \"FedProx\"),\n",
    "]\n",
    "\n",
    "algorithms_to_cmp = []\n",
    "for job_name, algorithm_title in algorithms:\n",
    "    job_details = job_details_map[job_name]\n",
    "    job_data = collect_job_metrics(job_details)[\"cr_timings\"]\n",
    "    job_data[\"Algorithm\"] = algorithm_title\n",
    "    algorithms_to_cmp.append(job_data)\n",
    "\n",
    "cmp_algorithms_by_cir(algorithms_to_cmp, \"device_type\", save_file=\"cmp_moon_fedprox_orig.pdf\")"
   ]
  },
  {
   "cell_type": "code",
   "execution_count": 21,
   "metadata": {},
   "outputs": [
    {
     "name": "stdout",
     "output_type": "stream",
     "text": [
      "Clipping rounds to 30\n",
      "Clipping rounds to 30\n",
      "Clipping rounds to 30\n"
     ]
    }
   ],
   "source": [
    "algorithms = [\n",
    "    (\"moon_large_model\", \"Moon (L)\"),\n",
    "    (\"moon_large_model_opt\", \"Moon (L+O)\"),\n",
    "    (\"moon_fedprox_large_model_opt\", \"Fedprox (L)\"),\n",
    "]\n",
    "\n",
    "algorithms_to_cmp = []\n",
    "for job_name, algorithm_title in algorithms:\n",
    "    job_details = job_details_map[job_name]\n",
    "    job_data = collect_job_metrics(job_details)[\"cr_timings\"]\n",
    "    job_data[\"Algorithm\"] = algorithm_title\n",
    "    algorithms_to_cmp.append(job_data)\n",
    "\n",
    "cmp_algorithms_by_cir(algorithms_to_cmp, \"device_type\", save_file=\"cmp_moon_fedprox_large.pdf\")"
   ]
  },
  {
   "cell_type": "code",
   "execution_count": 22,
   "metadata": {},
   "outputs": [],
   "source": [
    "cmp_algorithms_by_cir(algorithms_to_cmp, \"device_type\", save_file=\"cmp_moon_fedprox_large.pdf\")"
   ]
  },
  {
   "cell_type": "code",
   "execution_count": null,
   "metadata": {},
   "outputs": [],
   "source": [
    "\n",
    "job_data[\"hw_metrics\"].groupby(['client_id', 'round_number', 'stage']).describe()"
   ]
  },
  {
   "cell_type": "code",
   "execution_count": 41,
   "metadata": {},
   "outputs": [
    {
     "data": {
      "text/html": [
       "<div>\n",
       "<style scoped>\n",
       "    .dataframe tbody tr th:only-of-type {\n",
       "        vertical-align: middle;\n",
       "    }\n",
       "\n",
       "    .dataframe tbody tr th {\n",
       "        vertical-align: top;\n",
       "    }\n",
       "\n",
       "    .dataframe thead th {\n",
       "        text-align: right;\n",
       "    }\n",
       "</style>\n",
       "<table border=\"1\" class=\"dataframe\">\n",
       "  <thead>\n",
       "    <tr style=\"text-align: right;\">\n",
       "      <th></th>\n",
       "      <th>client_id</th>\n",
       "      <th>CPU Util (%)</th>\n",
       "      <th>Mem Util (MiB)</th>\n",
       "      <th>GPU Util (%)</th>\n",
       "      <th>Power (W)</th>\n",
       "      <th>Sent (MiB)</th>\n",
       "      <th>Rcvd (MiB)</th>\n",
       "      <th>Upload (MiB/s)</th>\n",
       "      <th>Download (MiB/s)</th>\n",
       "      <th>delta_t_sec</th>\n",
       "      <th>Energy (KJ)</th>\n",
       "    </tr>\n",
       "    <tr>\n",
       "      <th>device_name</th>\n",
       "      <th></th>\n",
       "      <th></th>\n",
       "      <th></th>\n",
       "      <th></th>\n",
       "      <th></th>\n",
       "      <th></th>\n",
       "      <th></th>\n",
       "      <th></th>\n",
       "      <th></th>\n",
       "      <th></th>\n",
       "      <th></th>\n",
       "    </tr>\n",
       "  </thead>\n",
       "  <tbody>\n",
       "    <tr>\n",
       "      <th>jao1</th>\n",
       "      <td>1.0</td>\n",
       "      <td>5.938010</td>\n",
       "      <td>1021.354482</td>\n",
       "      <td>14.989031</td>\n",
       "      <td>8.539661</td>\n",
       "      <td>0.217983</td>\n",
       "      <td>0.725861</td>\n",
       "      <td>0.008081</td>\n",
       "      <td>0.022612</td>\n",
       "      <td>0.299583</td>\n",
       "      <td>0.473790</td>\n",
       "    </tr>\n",
       "    <tr>\n",
       "      <th>jao2</th>\n",
       "      <td>0.0</td>\n",
       "      <td>6.054476</td>\n",
       "      <td>1003.134111</td>\n",
       "      <td>14.966496</td>\n",
       "      <td>8.254389</td>\n",
       "      <td>0.219824</td>\n",
       "      <td>0.718778</td>\n",
       "      <td>0.007040</td>\n",
       "      <td>0.022740</td>\n",
       "      <td>0.299619</td>\n",
       "      <td>0.454875</td>\n",
       "    </tr>\n",
       "    <tr>\n",
       "      <th>jon1</th>\n",
       "      <td>3.0</td>\n",
       "      <td>8.382969</td>\n",
       "      <td>1016.610995</td>\n",
       "      <td>29.496943</td>\n",
       "      <td>6.299031</td>\n",
       "      <td>0.291822</td>\n",
       "      <td>0.973631</td>\n",
       "      <td>0.011424</td>\n",
       "      <td>0.038031</td>\n",
       "      <td>0.299818</td>\n",
       "      <td>0.217313</td>\n",
       "    </tr>\n",
       "    <tr>\n",
       "      <th>jon4</th>\n",
       "      <td>2.0</td>\n",
       "      <td>9.090909</td>\n",
       "      <td>1005.616039</td>\n",
       "      <td>20.019394</td>\n",
       "      <td>5.657361</td>\n",
       "      <td>0.225645</td>\n",
       "      <td>0.852709</td>\n",
       "      <td>0.008250</td>\n",
       "      <td>0.026895</td>\n",
       "      <td>0.299414</td>\n",
       "      <td>0.267581</td>\n",
       "    </tr>\n",
       "  </tbody>\n",
       "</table>\n",
       "</div>"
      ],
      "text/plain": [
       "             client_id  CPU Util (%)  Mem Util (MiB)  GPU Util (%)  Power (W)  \\\n",
       "device_name                                                                     \n",
       "jao1               1.0      5.938010     1021.354482     14.989031   8.539661   \n",
       "jao2               0.0      6.054476     1003.134111     14.966496   8.254389   \n",
       "jon1               3.0      8.382969     1016.610995     29.496943   6.299031   \n",
       "jon4               2.0      9.090909     1005.616039     20.019394   5.657361   \n",
       "\n",
       "             Sent (MiB)  Rcvd (MiB)  Upload (MiB/s)  Download (MiB/s)  \\\n",
       "device_name                                                             \n",
       "jao1           0.217983    0.725861        0.008081          0.022612   \n",
       "jao2           0.219824    0.718778        0.007040          0.022740   \n",
       "jon1           0.291822    0.973631        0.011424          0.038031   \n",
       "jon4           0.225645    0.852709        0.008250          0.026895   \n",
       "\n",
       "             delta_t_sec  Energy (KJ)  \n",
       "device_name                            \n",
       "jao1            0.299583     0.473790  \n",
       "jao2            0.299619     0.454875  \n",
       "jon1            0.299818     0.217313  \n",
       "jon4            0.299414     0.267581  "
      ]
     },
     "execution_count": 41,
     "metadata": {},
     "output_type": "execute_result"
    }
   ],
   "source": [
    "job_data[\"hw_metrics\"].groupby(\"device_name\").mean(numeric_only=True)"
   ]
  },
  {
   "cell_type": "code",
   "execution_count": null,
   "metadata": {},
   "outputs": [],
   "source": []
  }
 ],
 "metadata": {
  "kernelspec": {
   "display_name": "colext_env",
   "language": "python",
   "name": "python3"
  },
  "language_info": {
   "codemirror_mode": {
    "name": "ipython",
    "version": 3
   },
   "file_extension": ".py",
   "mimetype": "text/x-python",
   "name": "python",
   "nbconvert_exporter": "python",
   "pygments_lexer": "ipython3",
   "version": "3.8.19"
  }
 },
 "nbformat": 4,
 "nbformat_minor": 2
}
